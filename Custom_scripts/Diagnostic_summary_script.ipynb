{
 "cells": [
  {
   "cell_type": "code",
   "execution_count": null,
   "id": "c024accd-0e6e-4b7f-9334-a1c498492699",
   "metadata": {},
   "outputs": [],
   "source": [
    "import pandas as pd\n",
    "\n",
    "#load data return table and interpret correctly\n",
    "df = pd.read_csv('diagnostic_summary.csv', encoding='utf-8', na_values=[''])\n",
    "\n",
    "#check the required columns\n",
    "for col in ('diag_date', 'diag_final', 'diag_sample_side'):\n",
    "    if col not in df.columns:\n",
    "        raise ValueError(f\"Missing required column: {col}\")\n",
    "\n",
    "#select rows where either diag_date, diag_final or diag_sample_side is NaN\n",
    "df_missing = df[df[['diag_date', 'diag_final', 'diag_sample_side']].isna().any(axis=1)].copy()\n",
    "\n",
    "#export to csv to identify which records are missing info\n",
    "df_missing.to_csv('diagnostic_summary_missing.csv', index=False)\n",
    "\n",
    "print(f\"{len(df_missing)} records found missing Entry Date, Final Diagnosis, or Sample Side.\")\n"
   ]
  }
 ],
 "metadata": {
  "kernelspec": {
   "display_name": "Python 3 (ipykernel)",
   "language": "python",
   "name": "python3"
  },
  "language_info": {
   "codemirror_mode": {
    "name": "ipython",
    "version": 3
   },
   "file_extension": ".py",
   "mimetype": "text/x-python",
   "name": "python",
   "nbconvert_exporter": "python",
   "pygments_lexer": "ipython3",
   "version": "3.11.9"
  }
 },
 "nbformat": 4,
 "nbformat_minor": 5
}
