{
 "cells": [
  {
   "cell_type": "code",
   "execution_count": null,
   "id": "d457f7d3-93e6-46a5-8677-37ebd5c9acef",
   "metadata": {},
   "outputs": [],
   "source": [
    "import pandas as pd\n",
    "import numpy as np\n",
    "\n",
    "#load data return table and interpret correctly\n",
    "df = pd.read_csv(\"redcap_export.csv\", encoding='utf-8')\n",
    "\n",
    "\n",
    "#list of all possible data_return fields matching the export\n",
    "expected_fields = [\n",
    "    'dr_status', 'dr_type', 'dr_loc', 'dr_url', 'genie_id',\n",
    "    'gel_eligibility', 'gel_consent', 'gel_blood', 'dr_other'\n",
    "]\n",
    "\n",
    "\n",
    "#only include fields that i want\n",
    "data_return_fields = [field for field in expected_fields if field in df.columns]\n",
    "\n",
    "#replace 0s in checkbox fields with NaN (to treat as missing)\n",
    "checkbox_fields = [col for col in df.columns if '___' in col]\n",
    "df[checkbox_fields] = df[checkbox_fields].replace([0, '0'], np.nan)\n",
    "\n",
    "#identify rows where ALL data_return fields are empty\n",
    "empty_data_return = df[data_return_fields].isnull().all(axis=1)\n",
    "\n",
    "#invert to find rows where at least one field has data\n",
    "has_data_return = df[~empty_data_return]\n",
    "\n",
    "#check for results\n",
    "print(f\"Found {len(has_data_return)} records with at least one field filled in 'data_return'.\")\n",
    "\n",
    "#export to CSV\n",
    "has_data_return.to_csv(\"records_with_data_return.csv\", index=False, encoding='utf-8')\n",
    "\n"
   ]
  }
 ],
 "metadata": {
  "kernelspec": {
   "display_name": "Python 3 (ipykernel)",
   "language": "python",
   "name": "python3"
  },
  "language_info": {
   "codemirror_mode": {
    "name": "ipython",
    "version": 3
   },
   "file_extension": ".py",
   "mimetype": "text/x-python",
   "name": "python",
   "nbconvert_exporter": "python",
   "pygments_lexer": "ipython3",
   "version": "3.11.9"
  }
 },
 "nbformat": 4,
 "nbformat_minor": 5
}
