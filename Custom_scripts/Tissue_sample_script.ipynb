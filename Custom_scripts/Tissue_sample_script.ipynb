{
 "cells": [
  {
   "cell_type": "code",
   "execution_count": null,
   "id": "4f5114d2-97cb-4392-94b5-57439d6e6dba",
   "metadata": {},
   "outputs": [],
   "source": [
    "import pandas as pd\n",
    "\n",
    "#load data return table and interpret correctly\n",
    "df = pd.read_csv('tissue_sample.csv', encoding='utf-8', na_values=[''])\n",
    "\n",
    "#check the required columns\n",
    "for col in ('tsample_col_dt', 'tsample_type', 'tsample_status'):\n",
    "    if col not in df.columns:\n",
    "        raise ValueError(f\"Missing required column: {col}\")\n",
    "\n",
    "#select rows where tsample_col_dt, tsample_type, or tsample_status is NaN\n",
    "df_missing = df[df[['tsample_col_dt', 'tsample_type', 'tsample_status']].isna().any(axis=1)].copy()\n",
    "\n",
    "#export to csv to identify which records are missing info\n",
    "df_missing.to_csv('tissue_sample_missing.csv', index=False)\n",
    "\n",
    "print(f\"{len(df_missing)} records found missing Collection Date & Time, Sample Type, or Availability.\")\n"
   ]
  }
 ],
 "metadata": {
  "kernelspec": {
   "display_name": "Python 3 (ipykernel)",
   "language": "python",
   "name": "python3"
  },
  "language_info": {
   "codemirror_mode": {
    "name": "ipython",
    "version": 3
   },
   "file_extension": ".py",
   "mimetype": "text/x-python",
   "name": "python",
   "nbconvert_exporter": "python",
   "pygments_lexer": "ipython3",
   "version": "3.11.9"
  }
 },
 "nbformat": 4,
 "nbformat_minor": 5
}
