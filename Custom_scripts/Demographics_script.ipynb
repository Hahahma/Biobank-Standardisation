{
 "cells": [
  {
   "cell_type": "code",
   "execution_count": null,
   "id": "8122baa3-99bb-4a3e-8fcf-21765890cea3",
   "metadata": {},
   "outputs": [],
   "source": [
    "import pandas as pd\n",
    "\n",
    "#load data return table and interpret correctly\n",
    "df = pd.read_csv('demographics.csv', encoding='utf-8', na_values=[''])\n",
    "\n",
    "#check the two required columns \n",
    "for col in ('ethnicity', 'sex'):\n",
    "    if col not in df.columns:\n",
    "        raise ValueError(f\"Missing required column: {col}\")\n",
    "\n",
    "#select rows where either ethnicity or sex is NaN\n",
    "df_missing = df[df[['ethnicity', 'sex']].isna().any(axis=1)].copy()\n",
    "\n",
    "#export to csv to identify which records are missing info\n",
    "df_missing.to_csv('demographics_missing.csv', index=False)\n",
    "\n",
    "print(f\"{len(df_missing)} records found missing ethnicity or sex.\")\n"
   ]
  }
 ],
 "metadata": {
  "kernelspec": {
   "display_name": "Python 3 (ipykernel)",
   "language": "python",
   "name": "python3"
  },
  "language_info": {
   "codemirror_mode": {
    "name": "ipython",
    "version": 3
   },
   "file_extension": ".py",
   "mimetype": "text/x-python",
   "name": "python",
   "nbconvert_exporter": "python",
   "pygments_lexer": "ipython3",
   "version": "3.11.9"
  }
 },
 "nbformat": 4,
 "nbformat_minor": 5
}
