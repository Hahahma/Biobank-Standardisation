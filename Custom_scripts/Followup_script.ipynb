{
 "cells": [
  {
   "cell_type": "code",
   "execution_count": null,
   "id": "c4fab067-8839-4be4-9795-2f04585c904d",
   "metadata": {},
   "outputs": [],
   "source": [
    "import pandas as pd\n",
    "\n",
    "#load data return table and interpret correctly\n",
    "df = pd.read_csv('followup.csv', encoding='utf-8', na_values=[''])\n",
    "\n",
    "#check the required columns\n",
    "for col in ('followup_date', 'followup_last_date', 'followup_report_drop'):\n",
    "    if col not in df.columns:\n",
    "        raise ValueError(f\"Missing required column: {col}\")\n",
    "\n",
    "#select rows where any of followup_date, followup_last_date, or followup_report_drop is NaN\n",
    "df_missing = df[df[['followup_date', 'followup_last_date', 'followup_report_drop']].isna().any(axis=1)].copy()\n",
    "\n",
    "#export to csv to identify which records are missing info\n",
    "df_missing.to_csv('followup_missing.csv', index=False)\n",
    "\n",
    "print(f\"{len(df_missing)} records found missing Date Checked, Date of Last Consultation, or Follow-up Report.\")\n"
   ]
  }
 ],
 "metadata": {
  "kernelspec": {
   "display_name": "Python 3 (ipykernel)",
   "language": "python",
   "name": "python3"
  },
  "language_info": {
   "codemirror_mode": {
    "name": "ipython",
    "version": 3
   },
   "file_extension": ".py",
   "mimetype": "text/x-python",
   "name": "python",
   "nbconvert_exporter": "python",
   "pygments_lexer": "ipython3",
   "version": "3.11.9"
  }
 },
 "nbformat": 4,
 "nbformat_minor": 5
}
