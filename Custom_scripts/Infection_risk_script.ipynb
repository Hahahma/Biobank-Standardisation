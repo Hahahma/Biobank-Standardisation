{
 "cells": [
  {
   "cell_type": "code",
   "execution_count": null,
   "id": "e425db4a-ef7a-4ec3-9e3b-1d31fe344197",
   "metadata": {},
   "outputs": [],
   "source": [
    "import pandas as pd\n",
    "\n",
    "#load data return table and interpret correctly\n",
    "df = pd.read_csv('infection_risk.csv', encoding='utf-8', na_values=[''])\n",
    "\n",
    "#check the column\n",
    "if 'infection_risk' not in df.columns:\n",
    "    raise ValueError(\"Missing required column: infection_risk\")\n",
    "\n",
    "#select rows where infection_risk is NaN\n",
    "df_missing = df[df['infection_risk'].isna()].copy()\n",
    "\n",
    "#export to csv to identify which records are missing info\n",
    "df_missing.to_csv('infection_risk_missing.csv', index=False)\n",
    "\n",
    "print(f\"{len(df_missing)} records found missing Infection risk.\")"
   ]
  }
 ],
 "metadata": {
  "kernelspec": {
   "display_name": "Python 3 (ipykernel)",
   "language": "python",
   "name": "python3"
  },
  "language_info": {
   "codemirror_mode": {
    "name": "ipython",
    "version": 3
   },
   "file_extension": ".py",
   "mimetype": "text/x-python",
   "name": "python",
   "nbconvert_exporter": "python",
   "pygments_lexer": "ipython3",
   "version": "3.11.9"
  }
 },
 "nbformat": 4,
 "nbformat_minor": 5
}
