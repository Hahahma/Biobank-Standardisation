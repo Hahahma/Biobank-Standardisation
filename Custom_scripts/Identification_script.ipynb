{
 "cells": [
  {
   "cell_type": "code",
   "execution_count": null,
   "id": "1ea05ca7-2c49-47fa-933d-65ebd4aff2df",
   "metadata": {},
   "outputs": [],
   "source": [
    "import pandas as pd\n",
    "\n",
    "#load data return table and interpret correctly\n",
    "df = pd.read_csv('identification.csv', encoding='utf-8', na_values=[''])\n",
    "\n",
    "#check the two required columns \n",
    "for col in ('nhs_id', 'dob'):\n",
    "    if col not in df.columns:\n",
    "        raise ValueError(f\"Missing required column: {col}\")\n",
    "\n",
    "#select rows where either nhs_id or dob is NaN\n",
    "df_missing = df[df[['nhs_id', 'dob']].isna().any(axis=1)].copy()\n",
    "\n",
    "#export to csv to identify which records are missing info\n",
    "df_missing.to_csv('identification_missing.csv', index=False)\n",
    "\n",
    "print(f\"{len(df_missing)} records found missing NHS ID or DoB\")"
   ]
  }
 ],
 "metadata": {
  "kernelspec": {
   "display_name": "Python 3 (ipykernel)",
   "language": "python",
   "name": "python3"
  },
  "language_info": {
   "codemirror_mode": {
    "name": "ipython",
    "version": 3
   },
   "file_extension": ".py",
   "mimetype": "text/x-python",
   "name": "python",
   "nbconvert_exporter": "python",
   "pygments_lexer": "ipython3",
   "version": "3.11.9"
  }
 },
 "nbformat": 4,
 "nbformat_minor": 5
}
