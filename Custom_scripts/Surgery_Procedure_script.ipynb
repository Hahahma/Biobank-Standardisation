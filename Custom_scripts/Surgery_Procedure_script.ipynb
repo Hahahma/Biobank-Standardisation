{
 "cells": [
  {
   "cell_type": "code",
   "execution_count": null,
   "id": "1f959c35-9785-4bbe-8ddd-bf1db14fc80a",
   "metadata": {},
   "outputs": [],
   "source": [
    "import pandas as pd\n",
    "\n",
    "#load data return table and interpret correctly\n",
    "df = pd.read_csv('surgery_procedure.csv', encoding='utf-8', na_values=[''])\n",
    "\n",
    "#check the required columns exist\n",
    "always_required = [\n",
    "    'path_no',\n",
    "    'surgery_date',\n",
    "    'surgery_proc',\n",
    "    'surgery_side',\n",
    "    'surgery_sample_side',\n",
    "    'lesion_focality',\n",
    "    'surgery_invasive',\n",
    "    'surgery_insitu',\n",
    "    'receptor_er_status',\n",
    "    'receptor_pr_status',\n",
    "    'receptor_her_status'\n",
    "]\n",
    "for col in always_required:\n",
    "    if col not in df.columns:\n",
    "        raise ValueError(f\"Missing required column: {col}\")\n",
    "\n",
    "# Also check that the conditional column exists\n",
    "if 'surgery_insitu_type' not in df.columns:\n",
    "    raise ValueError(\"Missing required column: surgery_insitu_type\")\n",
    "\n",
    "# 3. Coerce surgery_insitu to numeric so both '1' and 1 become 1.0\n",
    "insitu_num = pd.to_numeric(df['surgery_insitu'], errors='coerce')\n",
    "\n",
    "# 4. Build mask:\n",
    "#    (a) any of the always_required columns is NaN\n",
    "#    (b) OR surgery_insitu == 1 but surgery_insitu_type is NaN\n",
    "missing_always = df[always_required].isna().any(axis=1)\n",
    "missing_insitu_type = (insitu_num == 1) & df['surgery_insitu_type'].isna()\n",
    "mask_missing = missing_always | missing_insitu_type\n",
    "\n",
    "# 5. Filter and export bad records\n",
    "df_missing = df.loc[mask_missing].copy()\n",
    "df_missing.to_csv('surgery_procedure_missing.csv', index=False)\n",
    "\n",
    "print(f\"{len(df_missing)} records found missing required surgery fields.\")\n"
   ]
  }
 ],
 "metadata": {
  "kernelspec": {
   "display_name": "Python 3 (ipykernel)",
   "language": "python",
   "name": "python3"
  },
  "language_info": {
   "codemirror_mode": {
    "name": "ipython",
    "version": 3
   },
   "file_extension": ".py",
   "mimetype": "text/x-python",
   "name": "python",
   "nbconvert_exporter": "python",
   "pygments_lexer": "ipython3",
   "version": "3.11.9"
  }
 },
 "nbformat": 4,
 "nbformat_minor": 5
}
