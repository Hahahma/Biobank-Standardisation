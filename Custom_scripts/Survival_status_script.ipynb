{
 "cells": [
  {
   "cell_type": "code",
   "execution_count": null,
   "id": "3e02da2d-e9c1-4500-b79e-1081f91ba4f9",
   "metadata": {},
   "outputs": [],
   "source": [
    "import pandas as pd\n",
    "#load data return table and interpret correctly\n",
    "df = pd.read_csv('survival_status.csv', na_values=[''], encoding='utf-8')\n",
    "\n",
    "#check the two required columns\n",
    "for c in ('survival_status', 'death_date'):\n",
    "    if c not in df.columns:\n",
    "        raise ValueError(f\"Missing required column: {c}\")\n",
    "\n",
    "#change 2 to catch if integer or string\n",
    "status_num = pd.to_numeric(df['survival_status'], errors='coerce')\n",
    "\n",
    "#mask to catch missing survival and dead but no date\n",
    "mask_missing = df['survival_status'].isna() | ((status_num == 2) & df['death_date'].isna())\n",
    "\n",
    "#export to csv to identify which records are missing info\n",
    "df_missing = df.loc[mask_missing].copy()\n",
    "df_missing.to_csv('survival_status_missing.csv', index=False)\n",
    "\n",
    "print(f\"{len(df_missing)} records found missing Survival Status or Death date when donor is deceased.\")\n"
   ]
  }
 ],
 "metadata": {
  "kernelspec": {
   "display_name": "Python 3 (ipykernel)",
   "language": "python",
   "name": "python3"
  },
  "language_info": {
   "codemirror_mode": {
    "name": "ipython",
    "version": 3
   },
   "file_extension": ".py",
   "mimetype": "text/x-python",
   "name": "python",
   "nbconvert_exporter": "python",
   "pygments_lexer": "ipython3",
   "version": "3.11.9"
  }
 },
 "nbformat": 4,
 "nbformat_minor": 5
}
